{
 "cells": [
  {
   "cell_type": "markdown",
   "id": "ae9db9ff",
   "metadata": {},
   "source": [
    "# Q1.a.  (10 points) create an network to approximate sin(x)\n",
    "\n",
    "In this problem, you will try to build a three-layer fully connected network to approximate the sin function using PyTorch. There are 100 hidden units in each layer and please use ReLU activation after the first two layers and no activation after the last layer. You should implement your network model as a subclass of [torch.nn.Module](https://pytorch.org/docs/stable/generated/torch.nn.Module.html) "
   ]
  },
  {
   "cell_type": "markdown",
   "id": "intensive-apparel",
   "metadata": {},
   "source": [
    "### <font color='red'>Define your network here</font>"
   ]
  },
  {
   "cell_type": "code",
   "execution_count": 1,
   "id": "lesser-fiction",
   "metadata": {},
   "outputs": [],
   "source": [
    "import torch\n",
    "from torch import nn\n",
    "import numpy as np\n",
    "import random\n",
    "\n",
    "class Mynetwork(torch.nn.Module):\n",
    "    def __init__(self):\n",
    "#-- complete the code here    \n",
    "\n",
    "\n",
    "#-- end complete the code here    \n",
    "\n",
    "    def forward(self,x):\n",
    "#-- complete the code here    \n",
    "\n",
    "\n",
    "#-- end complete the code here    \n",
    "    \n"
   ]
  },
  {
   "cell_type": "markdown",
   "id": "placed-passing",
   "metadata": {},
   "source": [
    "### Training"
   ]
  },
  {
   "cell_type": "code",
   "execution_count": 2,
   "id": "6df92333",
   "metadata": {},
   "outputs": [
    {
     "name": "stdout",
     "output_type": "stream",
     "text": [
      "0.0034203710965812206\n",
      "0.00027573294937610626\n",
      "0.0002785267715808004\n",
      "9.57260635914281e-05\n",
      "0.00017568762996234\n",
      "0.0004204694414511323\n",
      "0.00021288888819981366\n",
      "0.00022242884733714163\n",
      "3.210400973330252e-05\n",
      "6.517337169498205e-05\n"
     ]
    }
   ],
   "source": [
    "model = Mynetwork()\n",
    "\n",
    "loss_fn = torch.nn.MSELoss()\n",
    "optimizer = torch.optim.Adam(model.parameters())\n",
    "\n",
    "for epoch in range(10000):\n",
    "    x=10. * torch.rand((200,1)).type(torch.FloatTensor)\n",
    "    y=torch.sin(x).view(-1)\n",
    "    \n",
    "    optimizer.zero_grad()\n",
    "    yh = model(x).view(-1)\n",
    "    loss = loss_fn(yh,y)\n",
    "    loss.backward()\n",
    "    optimizer.step()\n",
    "\n",
    "    if epoch % 1000 == 999:\n",
    "        print(loss.item())"
   ]
  },
  {
   "cell_type": "markdown",
   "id": "atmospheric-belief",
   "metadata": {},
   "source": [
    "### Visualization"
   ]
  },
  {
   "cell_type": "code",
   "execution_count": 3,
   "id": "c2a9e088",
   "metadata": {},
   "outputs": [
    {
     "data": {
      "text/plain": [
       "<matplotlib.legend.Legend at 0x7f59bd255bb0>"
      ]
     },
     "execution_count": 3,
     "metadata": {},
     "output_type": "execute_result"
    },
    {
     "data": {
      "image/png": "[encoded data removed]",
      "text/plain": [
       "<Figure size 432x288 with 1 Axes>"
      ]
     },
     "metadata": {
      "needs_background": "light"
     },
     "output_type": "display_data"
    }
   ],
   "source": [
    "from matplotlib import pyplot as plt\n",
    "\n",
    "xv=np.array(range(100))/50. *np.pi\n",
    "yv=model(torch.from_numpy(xv).type(torch.FloatTensor).view((100,-1))).view(-1).detach().numpy()\n",
    "\n",
    "plt.plot(xv,yv,label='network')\n",
    "plt.plot(xv,np.sin(xv),label='sin(x)')\n",
    "plt.legend()"
   ]
  },
  {
   "cell_type": "markdown",
   "id": "attempted-military",
   "metadata": {},
   "source": [
    "# Q1.b. (Extra credit: 5 points) Repeat 1.a. using [torch.nn.Sequential](https://pytorch.org/docs/stable/generated/torch.nn.Sequential.html) \n",
    "\n",
    "### <font color='red'>Redefine your model below</font>"
   ]
  },
  {
   "cell_type": "code",
   "execution_count": 4,
   "id": "premier-honduras",
   "metadata": {},
   "outputs": [],
   "source": [
    "# Hint: model = torch.nn.Sequential(...)\n",
    "\n",
    "#-- complete the code here    \n",
    "\n",
    "\n",
    "\n",
    "#-- end complete the code here    \n"
   ]
  },
  {
   "cell_type": "markdown",
   "id": "double-tender",
   "metadata": {},
   "source": [
    "### Training"
   ]
  },
  {
   "cell_type": "code",
   "execution_count": 5,
   "id": "ongoing-former",
   "metadata": {},
   "outputs": [
    {
     "name": "stdout",
     "output_type": "stream",
     "text": [
      "0.027381647378206253\n",
      "0.0002204020565841347\n",
      "0.0029236513655632734\n",
      "7.226680463645607e-05\n",
      "0.00018450863717589527\n",
      "0.000196704117115587\n",
      "0.00015346996951848269\n",
      "0.0014713072450831532\n",
      "4.805776916327886e-05\n",
      "0.0011197581188753247\n"
     ]
    }
   ],
   "source": [
    "loss_fn = torch.nn.MSELoss()\n",
    "optimizer = torch.optim.Adam(model.parameters())\n",
    "\n",
    "for epoch in range(10000):\n",
    "    x=10. * torch.rand((200,1)).type(torch.FloatTensor)\n",
    "    y=torch.sin(x).view(-1)\n",
    "    \n",
    "    optimizer.zero_grad()\n",
    "    yh = model(x).view(-1)\n",
    "    loss = loss_fn(yh,y)\n",
    "    loss.backward()\n",
    "    optimizer.step()\n",
    "\n",
    "    if epoch % 1000 == 999:\n",
    "        print(loss.item())"
   ]
  },
  {
   "cell_type": "markdown",
   "id": "saving-memphis",
   "metadata": {},
   "source": [
    "### Visualization"
   ]
  },
  {
   "cell_type": "code",
   "execution_count": 6,
   "id": "continent-barcelona",
   "metadata": {},
   "outputs": [
    {
     "data": {
      "text/plain": [
       "<matplotlib.legend.Legend at 0x7f59bcb386d0>"
      ]
     },
     "execution_count": 6,
     "metadata": {},
     "output_type": "execute_result"
    },
    {
     "data": {
      "image/png": "[encoded data removed]",
      "text/plain": [
       "<Figure size 432x288 with 1 Axes>"
      ]
     },
     "metadata": {
      "needs_background": "light"
     },
     "output_type": "display_data"
    }
   ],
   "source": [
    "from matplotlib import pyplot as plt\n",
    "\n",
    "xv=np.array(range(100))/50. *np.pi\n",
    "yv=model(torch.from_numpy(xv).type(torch.FloatTensor).view((100,-1))).view(-1).detach().numpy()\n",
    "\n",
    "plt.plot(xv,yv,label='network')\n",
    "plt.plot(xv,np.sin(xv),label='sin(x)')\n",
    "plt.legend()"
   ]
  },
  {
   "cell_type": "markdown",
   "id": "creative-council",
   "metadata": {},
   "source": [
    "# Q2. Classify clothing\n",
    "\n",
    "In this problem, you will implement a network to classify different types of clothing. We will play with the [FachionMNIST](https://github.com/zalandoresearch/fashion-mnist) dataset, which contains ten different classes.\n",
    "\n",
    "Your network should contain three conv layers with 6, 16, and 32 filters (all 3x3 and no padding), respectively. You should use ReLU activation after each conv layer followed by 2x2 max pooling. There will be two fully connected layers after the last pooling layer. The first fully connected layer has 64 neurons."
   ]
  },
  {
   "cell_type": "markdown",
   "id": "experienced-courage",
   "metadata": {},
   "source": [
    "# Q2.a. (2 points) How many outputs for the last fully connected layer (Hint: there are 10 classes)"
   ]
  },
  {
   "cell_type": "markdown",
   "id": "adjusted-allen",
   "metadata": {},
   "source": [
    "<font color='red'>Answer: </font>"
   ]
  },
  {
   "cell_type": "markdown",
   "id": "junior-terry",
   "metadata": {},
   "source": [
    "# Q2.b (6 points) How many parameters in the entire network? "
   ]
  },
  {
   "cell_type": "markdown",
   "id": "signal-annual",
   "metadata": {},
   "source": [
    "<font color='red'>Answer: </font>\n",
    "    \n",
    "conv 1:\n",
    "\n",
    "pooling 1:\n",
    "\n",
    "conv2:\n",
    "\n",
    "pooling 2:\n",
    "\n",
    "conv3:\n",
    "\n",
    "pooling 3:\n",
    "\n",
    "fully-connected 1:\n",
    "\n",
    "fully-connected 2:\n",
    "\n"
   ]
  },
  {
   "cell_type": "markdown",
   "id": "stretch-seeking",
   "metadata": {},
   "source": [
    "# Q2.c (12 points) Complete the code below by defining the network"
   ]
  },
  {
   "cell_type": "markdown",
   "id": "addressed-friendly",
   "metadata": {},
   "source": [
    "### Download and load the dataset"
   ]
  },
  {
   "cell_type": "code",
   "execution_count": 1,
   "id": "surface-stable",
   "metadata": {},
   "outputs": [
    {
     "name": "stdout",
     "output_type": "stream",
     "text": [
      "Downloading http://fashion-mnist.s3-website.eu-central-1.amazonaws.com/train-images-idx3-ubyte.gz\n",
      "Downloading http://fashion-mnist.s3-website.eu-central-1.amazonaws.com/train-images-idx3-ubyte.gz to ./data/FashionMNIST/raw/train-images-idx3-ubyte.gz\n"
     ]
    },
    {
     "name": "stderr",
     "output_type": "stream",
     "text": [
      "100%|██████████████████████████| 26421880/26421880 [00:07<00:00, 3474604.99it/s]\n"
     ]
    },
    {
     "name": "stdout",
     "output_type": "stream",
     "text": [
      "Extracting ./data/FashionMNIST/raw/train-images-idx3-ubyte.gz to ./data/FashionMNIST/raw\n",
      "\n",
      "Downloading http://fashion-mnist.s3-website.eu-central-1.amazonaws.com/train-labels-idx1-ubyte.gz\n",
      "Downloading http://fashion-mnist.s3-website.eu-central-1.amazonaws.com/train-labels-idx1-ubyte.gz to ./data/FashionMNIST/raw/train-labels-idx1-ubyte.gz\n"
     ]
    },
    {
     "name": "stderr",
     "output_type": "stream",
     "text": [
      "100%|█████████████████████████████████| 29515/29515 [00:00<00:00, 242628.50it/s]\n"
     ]
    },
    {
     "name": "stdout",
     "output_type": "stream",
     "text": [
      "Extracting ./data/FashionMNIST/raw/train-labels-idx1-ubyte.gz to ./data/FashionMNIST/raw\n",
      "\n",
      "Downloading http://fashion-mnist.s3-website.eu-central-1.amazonaws.com/t10k-images-idx3-ubyte.gz\n",
      "Downloading http://fashion-mnist.s3-website.eu-central-1.amazonaws.com/t10k-images-idx3-ubyte.gz to ./data/FashionMNIST/raw/t10k-images-idx3-ubyte.gz\n"
     ]
    },
    {
     "name": "stderr",
     "output_type": "stream",
     "text": [
      "100%|████████████████████████████| 4422102/4422102 [00:01<00:00, 2843096.61it/s]\n"
     ]
    },
    {
     "name": "stdout",
     "output_type": "stream",
     "text": [
      "Extracting ./data/FashionMNIST/raw/t10k-images-idx3-ubyte.gz to ./data/FashionMNIST/raw\n",
      "\n",
      "Downloading http://fashion-mnist.s3-website.eu-central-1.amazonaws.com/t10k-labels-idx1-ubyte.gz\n",
      "Downloading http://fashion-mnist.s3-website.eu-central-1.amazonaws.com/t10k-labels-idx1-ubyte.gz to ./data/FashionMNIST/raw/t10k-labels-idx1-ubyte.gz\n"
     ]
    },
    {
     "name": "stderr",
     "output_type": "stream",
     "text": [
      "100%|██████████████████████████████████| 5148/5148 [00:00<00:00, 3878619.90it/s]"
     ]
    },
    {
     "name": "stdout",
     "output_type": "stream",
     "text": [
      "Extracting ./data/FashionMNIST/raw/t10k-labels-idx1-ubyte.gz to ./data/FashionMNIST/raw\n",
      "\n",
      "Training set has 60000 instances\n",
      "Validation set has 10000 instances\n"
     ]
    },
    {
     "name": "stderr",
     "output_type": "stream",
     "text": [
      "\n"
     ]
    }
   ],
   "source": [
    "import torch\n",
    "import torchvision\n",
    "import torchvision.transforms as transforms\n",
    "\n",
    "use_cuda = False # set it to True if you have GPU and want to use it\n",
    "\n",
    "transform = transforms.Compose(\n",
    "    [transforms.ToTensor(),\n",
    "    transforms.Normalize((0.5,), (0.5,))])\n",
    "\n",
    "# Create datasets for training & validation, download if necessary\n",
    "training_set = torchvision.datasets.FashionMNIST('./data', train=True, transform=transform, download=True)\n",
    "validation_set = torchvision.datasets.FashionMNIST('./data', train=False, transform=transform, download=True)\n",
    "\n",
    "# Create data loaders for our datasets; shuffle for training, not for validation\n",
    "training_loader = torch.utils.data.DataLoader(training_set, batch_size=4, shuffle=True, num_workers=2)\n",
    "validation_loader = torch.utils.data.DataLoader(validation_set, batch_size=4, shuffle=False, num_workers=2)\n",
    "\n",
    "# Class labels\n",
    "classes = ('T-shirt/top', 'Trouser', 'Pullover', 'Dress', 'Coat',\n",
    "        'Sandal', 'Shirt', 'Sneaker', 'Bag', 'Ankle Boot')\n",
    "\n",
    "# Report split sizes\n",
    "print('Training set has {} instances'.format(len(training_set)))\n",
    "print('Validation set has {} instances'.format(len(validation_set)))"
   ]
  },
  {
   "cell_type": "markdown",
   "id": "confidential-activity",
   "metadata": {},
   "source": [
    "### Visualize the dataset"
   ]
  },
  {
   "cell_type": "code",
   "execution_count": 3,
   "id": "86c35e8d",
   "metadata": {},
   "outputs": [
    {
     "name": "stdout",
     "output_type": "stream",
     "text": [
      "T-shirt/top  Shirt  Trouser  Trouser\n"
     ]
    },
    {
     "data": {
      "image/png": "[encoded data removed]",
      "text/plain": [
       "<Figure size 640x480 with 1 Axes>"
      ]
     },
     "metadata": {},
     "output_type": "display_data"
    }
   ],
   "source": [
    "import matplotlib.pyplot as plt\n",
    "import numpy as np\n",
    "\n",
    "# Helper function for inline image display\n",
    "def matplotlib_imshow(img, one_channel=False):\n",
    "    if one_channel:\n",
    "        img = img.mean(dim=0)\n",
    "    img = img / 2 + 0.5     # unnormalize\n",
    "    npimg = img.numpy()\n",
    "    if one_channel:\n",
    "        plt.imshow(npimg, cmap=\"Greys\")\n",
    "    else:\n",
    "        plt.imshow(np.transpose(npimg, (1, 2, 0)))\n",
    "\n",
    "dataiter = iter(training_loader)\n",
    "images, labels = next(dataiter)\n",
    "\n",
    "# Create a grid from the images and show them\n",
    "img_grid = torchvision.utils.make_grid(images)\n",
    "matplotlib_imshow(img_grid, one_channel=True)\n",
    "print('  '.join(classes[labels[j]] for j in range(4)))"
   ]
  },
  {
   "cell_type": "markdown",
   "id": "adjustable-spanking",
   "metadata": {},
   "source": [
    "### <font color='red'>Define your network here</font>"
   ]
  },
  {
   "cell_type": "code",
   "execution_count": 9,
   "id": "cordless-intensity",
   "metadata": {},
   "outputs": [],
   "source": [
    "import torch.nn as nn\n",
    "import torch\n",
    "import torch.nn.functional as F\n",
    "\n",
    "class GarmentClassifier(nn.Module):\n",
    "    def __init__(self):\n",
    "#-- complete the code here    \n",
    "\n",
    "\n",
    "\n",
    "\n",
    "#-- end complete the code here    \n",
    "\n",
    "    def forward(self, x):\n",
    "#-- complete the code here    \n",
    "\n",
    "\n",
    "\n",
    "\n",
    "#-- end complete the code here    \n",
    "\n",
    "\n",
    "if torch.cuda.is_available() and use_cuda:\n",
    "    model = GarmentClassifier().cuda()\n",
    "else:\n",
    "    model = GarmentClassifier()"
   ]
  },
  {
   "cell_type": "markdown",
   "id": "therapeutic-gross",
   "metadata": {},
   "source": [
    "### Prepare \"trainer\""
   ]
  },
  {
   "cell_type": "code",
   "execution_count": 13,
   "id": "running-penny",
   "metadata": {},
   "outputs": [],
   "source": [
    "loss_fn = torch.nn.CrossEntropyLoss()\n",
    "optimizer = torch.optim.SGD(model.parameters(), lr=0.001, momentum=0.9)\n",
    "\n",
    "def train_one_epoch(epoch_index):\n",
    "    running_loss = 0.\n",
    "    last_loss = 0.\n",
    "    \n",
    "    # Here, we use enumerate(training_loader) instead of\n",
    "    # iter(training_loader) so that we can track the batch\n",
    "    # index and do some intra-epoch reporting\n",
    "    for i, data in enumerate(training_loader):\n",
    "        # Every data instance is an input + label pair\n",
    "        inputs, labels = data\n",
    "        if torch.cuda.is_available() and use_cuda:\n",
    "            inputs=inputs.cuda()\n",
    "            labels=labels.cuda()\n",
    "\n",
    "        # Zero your gradients for every batch!\n",
    "        optimizer.zero_grad()\n",
    "\n",
    "        # Make predictions for this batch\n",
    "        outputs = model(inputs)\n",
    "\n",
    "        # Compute the loss and its gradients\n",
    "        loss = loss_fn(outputs, labels)\n",
    "        loss.backward()\n",
    "\n",
    "        # Adjust learning weights\n",
    "        optimizer.step()\n",
    "\n",
    "        # Gather data and report\n",
    "        running_loss += loss.item()\n",
    "        if i % 1000 == 999:\n",
    "            last_loss = running_loss / 1000 # loss per batch\n",
    "            print('  batch {} loss: {}'.format(i + 1, last_loss))\n",
    "            running_loss = 0.\n",
    "\n",
    "    return last_loss"
   ]
  },
  {
   "cell_type": "markdown",
   "id": "comprehensive-liechtenstein",
   "metadata": {},
   "source": [
    "### Start training"
   ]
  },
  {
   "cell_type": "code",
   "execution_count": 15,
   "id": "9f9bcd0f",
   "metadata": {
    "scrolled": true
   },
   "outputs": [
    {
     "name": "stdout",
     "output_type": "stream",
     "text": [
      "EPOCH 1:\n",
      "  batch 1000 loss: 0.5016711144386791\n",
      "  batch 2000 loss: 0.4879903859840706\n",
      "  batch 3000 loss: 0.5153748965951381\n",
      "  batch 4000 loss: 0.49523143982025797\n",
      "  batch 5000 loss: 0.4767445433982648\n",
      "  batch 6000 loss: 0.49395503593399187\n",
      "  batch 7000 loss: 0.46382360034110026\n",
      "  batch 8000 loss: 0.46008388720825316\n",
      "  batch 9000 loss: 0.4629328250864637\n",
      "  batch 10000 loss: 0.46100793036620596\n",
      "  batch 11000 loss: 0.45335045937914403\n",
      "  batch 12000 loss: 0.46304751582280734\n",
      "  batch 13000 loss: 0.4592298640280496\n",
      "  batch 14000 loss: 0.4622895815780503\n",
      "  batch 15000 loss: 0.4423966025863192\n",
      "LOSS train 0.4423966025863192 valid 0.46024414896965027\n",
      "EPOCH 2:\n",
      "  batch 1000 loss: 0.42145762145856863\n",
      "  batch 2000 loss: 0.47108051656538735\n",
      "  batch 3000 loss: 0.44253823141008614\n",
      "  batch 4000 loss: 0.4101803269519005\n",
      "  batch 5000 loss: 0.4296010117421392\n",
      "  batch 6000 loss: 0.41699717939435504\n",
      "  batch 7000 loss: 0.4182659008966293\n",
      "  batch 8000 loss: 0.428519713369722\n",
      "  batch 9000 loss: 0.4146968546194403\n",
      "  batch 10000 loss: 0.4024722200263059\n",
      "  batch 11000 loss: 0.4125637284159893\n",
      "  batch 12000 loss: 0.4207096932434943\n",
      "  batch 13000 loss: 0.4107713693276746\n",
      "  batch 14000 loss: 0.396374596947222\n",
      "  batch 15000 loss: 0.41958106377604415\n",
      "LOSS train 0.41958106377604415 valid 0.44984331727027893\n",
      "EPOCH 3:\n",
      "  batch 1000 loss: 0.41330638983196694\n",
      "  batch 2000 loss: 0.3985174706102989\n",
      "  batch 3000 loss: 0.37634882318769813\n",
      "  batch 4000 loss: 0.37531123155928797\n",
      "  batch 5000 loss: 0.37615996596391776\n",
      "  batch 6000 loss: 0.4055920859769685\n",
      "  batch 7000 loss: 0.4049173467164219\n",
      "  batch 8000 loss: 0.3926431025690399\n",
      "  batch 9000 loss: 0.39966972182752214\n",
      "  batch 10000 loss: 0.39182805481381366\n",
      "  batch 11000 loss: 0.3917023583765549\n",
      "  batch 12000 loss: 0.38168022965517595\n",
      "  batch 13000 loss: 0.37574650804814885\n",
      "  batch 14000 loss: 0.38726472863345407\n",
      "  batch 15000 loss: 0.38498862162436126\n",
      "LOSS train 0.38498862162436126 valid 0.41861987113952637\n"
     ]
    }
   ],
   "source": [
    "# Initializing in a separate cell so we can easily add more epochs to the same run\n",
    "torch.multiprocessing.set_sharing_strategy('file_system')\n",
    "# timestamp = datetime.now().strftime('%Y%m%d_%H%M%S')\n",
    "# writer = SummaryWriter('runs/fashion_trainer_{}'.format(timestamp))\n",
    "epoch_number = 0\n",
    "\n",
    "EPOCHS = 3\n",
    "\n",
    "best_vloss = 1_000_000.\n",
    "\n",
    "for epoch in range(EPOCHS):\n",
    "    print('EPOCH {}:'.format(epoch_number + 1))\n",
    "\n",
    "    # Make sure gradient tracking is on, and do a pass over the data\n",
    "    model.train(True)\n",
    "    avg_loss = train_one_epoch(epoch_number)\n",
    "\n",
    "    # We don't need gradients on to do reporting\n",
    "    model.train(False)\n",
    "\n",
    "    running_vloss = 0.0\n",
    "    for i, vdata in enumerate(validation_loader):\n",
    "        vinputs, vlabels = vdata\n",
    "        if torch.cuda.is_available() and use_cuda:\n",
    "            vinputs=vinputs.cuda()\n",
    "            vlabels=vlabels.cuda()\n",
    "        voutputs = model(vinputs)\n",
    "        vloss = loss_fn(voutputs, vlabels)\n",
    "        running_vloss += vloss\n",
    "\n",
    "    avg_vloss = running_vloss / (i + 1)\n",
    "    print('LOSS train {} valid {}'.format(avg_loss, avg_vloss))\n",
    "\n",
    "    # Track best performance, and save the model's state\n",
    "    if avg_vloss < best_vloss:\n",
    "        best_vloss = avg_vloss\n",
    "\n",
    "    epoch_number += 1"
   ]
  },
  {
   "cell_type": "markdown",
   "id": "adapted-fiction",
   "metadata": {},
   "source": [
    "### Verify results"
   ]
  },
  {
   "cell_type": "code",
   "execution_count": 16,
   "id": "5106276d",
   "metadata": {},
   "outputs": [
    {
     "name": "stdout",
     "output_type": "stream",
     "text": [
      "Groundtruth: Ankle Boot  Pullover  Trouser  Trouser\n",
      "Result:      Ankle Boot  Pullover  Trouser  Trouser\n"
     ]
    },
    {
     "data": {
      "image/png": "[encoded data removed]",
      "text/plain": [
       "<Figure size 432x288 with 1 Axes>"
      ]
     },
     "metadata": {
      "needs_background": "light"
     },
     "output_type": "display_data"
    }
   ],
   "source": [
    "dataiter = iter(validation_loader)\n",
    "images, labels = dataiter.next()\n",
    "\n",
    "# Create a grid from the images and show them\n",
    "img_grid = torchvision.utils.make_grid(images)\n",
    "matplotlib_imshow(img_grid, one_channel=True)\n",
    "print('Groundtruth: '+'  '.join(classes[labels[j]] for j in range(4)))\n",
    "if torch.cuda.is_available() and use_cuda:\n",
    "    images=images.cuda()\n",
    "print('Result:      '+'  '.join([classes[i] for i in torch.argmax(model(images).cpu(),1)]))"
   ]
  },
  {
   "cell_type": "markdown",
   "id": "civilian-field",
   "metadata": {},
   "source": [
    "# Q2.d (Extra credit: 10 points) Try to see if you can modify the network so that the validation loss is less than 0.3 and the number of parameters are no more than 5% more than the original one \n"
   ]
  },
  {
   "cell_type": "markdown",
   "id": "registered-heating",
   "metadata": {},
   "source": [
    "# Q3. Object detection with YOLOv5\n",
    "\n",
    "Please follow the instructions [here](https://pytorch.org/hub/ultralytics_yolov5/) to install YOLOv5 on PyTorch. \n",
    "\n"
   ]
  },
  {
   "cell_type": "markdown",
   "id": "considered-christmas",
   "metadata": {},
   "source": [
    "# Q3.a (10 points) Test YOLOv5s on one of your own photos. Show your code and results."
   ]
  },
  {
   "cell_type": "markdown",
   "id": "hindu-caribbean",
   "metadata": {},
   "source": [
    "# Q3.b (Extra credit: 5 points) Combine YOLO and OpenCV to detect object from webcam stream by completing the code below (Hint: dir(model(frame)))"
   ]
  },
  {
   "cell_type": "markdown",
   "id": "hindu-progressive",
   "metadata": {},
   "source": [
    "### <font color='red'>Complete the code below</font>"
   ]
  },
  {
   "cell_type": "code",
   "execution_count": 17,
   "id": "03afc4da",
   "metadata": {},
   "outputs": [
    {
     "name": "stderr",
     "output_type": "stream",
     "text": [
      "Using cache found in /home/phsamuel/.cache/torch/hub/ultralytics_yolov5_master\n",
      "YOLOv5 🚀 2022-3-24 torch 1.7.1 CUDA:0 (NVIDIA GeForce GTX 1070, 8120MiB)\n",
      "\n",
      "Fusing layers... \n",
      "YOLOv5s_v6 summary: 213 layers, 7225885 parameters, 0 gradients\n",
      "Adding AutoShape... \n"
     ]
    }
   ],
   "source": [
    "import cv2\n",
    "import platform\n",
    "\n",
    "cap=cv2.VideoCapture(0)\n",
    "\n",
    "model = torch.hub.load('ultralytics/yolov5', 'yolov5s', pretrained=True)\n",
    "\n",
    "while (True):\n",
    "    \n",
    "    ret,frame=cap.read()\n",
    "    \n",
    "    results = model(frame)\n",
    "    \n",
    "#-- complete the code here\n",
    "\n",
    "\n",
    "#-- end complete the code here    \n",
    "    \n",
    "    if cv2.waitKey(1) &0xFF == ord('q'): # press q or ESC to quit. You probably need to hit the screen first\n",
    "        break\n",
    "        \n",
    "cap.release()\n",
    "cv2.destroyAllWindows()"
   ]
  },
  {
   "cell_type": "code",
   "execution_count": null,
   "id": "dramatic-windows",
   "metadata": {},
   "outputs": [],
   "source": []
  }
 ],
 "metadata": {
  "kernelspec": {
   "display_name": "Python 3 (ipykernel)",
   "language": "python",
   "name": "python3"
  },
  "language_info": {
   "codemirror_mode": {
    "name": "ipython",
    "version": 3
   },
   "file_extension": ".py",
   "mimetype": "text/x-python",
   "name": "python",
   "nbconvert_exporter": "python",
   "pygments_lexer": "ipython3",
   "version": "3.10.12"
  }
 },
 "nbformat": 4,
 "nbformat_minor": 5
}
